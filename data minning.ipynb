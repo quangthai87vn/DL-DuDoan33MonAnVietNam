{
 "cells": [
  {
   "cell_type": "code",
   "execution_count": 5,
   "id": "64cfe5b8",
   "metadata": {},
   "outputs": [
    {
     "ename": "AttributeError",
     "evalue": "'str' object has no attribute 'exists'",
     "output_type": "error",
     "traceback": [
      "\u001b[31m---------------------------------------------------------------------------\u001b[39m",
      "\u001b[31mAttributeError\u001b[39m                            Traceback (most recent call last)",
      "\u001b[36mCell\u001b[39m\u001b[36m \u001b[39m\u001b[32mIn[5]\u001b[39m\u001b[32m, line 29\u001b[39m\n\u001b[32m     26\u001b[39m IMG_EXTS  = {\u001b[33m\"\u001b[39m\u001b[33m.jpg\u001b[39m\u001b[33m\"\u001b[39m, \u001b[33m\"\u001b[39m\u001b[33m.jpeg\u001b[39m\u001b[33m\"\u001b[39m, \u001b[33m\"\u001b[39m\u001b[33m.png\u001b[39m\u001b[33m\"\u001b[39m, \u001b[33m\"\u001b[39m\u001b[33m.bmp\u001b[39m\u001b[33m\"\u001b[39m, \u001b[33m\"\u001b[39m\u001b[33m.webp\u001b[39m\u001b[33m\"\u001b[39m}\n\u001b[32m     28\u001b[39m \u001b[38;5;66;03m# Kiểm tra tồn tại (tùy bộ dữ liệu của bạn có hoặc không có val)\u001b[39;00m\n\u001b[32m---> \u001b[39m\u001b[32m29\u001b[39m \u001b[38;5;28;01massert\u001b[39;00m \u001b[43mTRAIN_DIR\u001b[49m\u001b[43m.\u001b[49m\u001b[43mexists\u001b[49m(), \u001b[33mf\u001b[39m\u001b[33m\"\u001b[39m\u001b[33mKhông thấy thư mục train: \u001b[39m\u001b[38;5;132;01m{\u001b[39;00mTRAIN_DIR\u001b[38;5;132;01m}\u001b[39;00m\u001b[33m\"\u001b[39m\n\u001b[32m     30\u001b[39m \u001b[38;5;28;01mif\u001b[39;00m \u001b[38;5;129;01mnot\u001b[39;00m VAL_DIR.exists():\n\u001b[32m     31\u001b[39m     \u001b[38;5;28mprint\u001b[39m(\u001b[33m\"\u001b[39m\u001b[33m⚠️ Không thấy thư mục val, sẽ chỉ quét train.\u001b[39m\u001b[33m\"\u001b[39m)\n",
      "\u001b[31mAttributeError\u001b[39m: 'str' object has no attribute 'exists'"
     ]
    }
   ],
   "source": [
    "# Cell 0: Paths & imports\n",
    "from pathlib import Path\n",
    "import os, math, json, random, statistics\n",
    "import numpy as np\n",
    "import pandas as pd\n",
    "import matplotlib.pyplot as plt\n",
    "import seaborn as sns\n",
    "\n",
    "from PIL import Image, ImageOps, ImageStat, ImageFilter\n",
    "import cv2  \n",
    "import torch\n",
    "from torchvision import transforms, models\n",
    "\n",
    "plt.rcParams['figure.dpi'] = 140\n",
    "sns.set_theme(style=\"whitegrid\")\n",
    "\n",
    "\n",
    "DATA_ROOT = \"C:/TRAIN/Deep Learning/vietnamese-foods/Images\"   # <== đổi nếu cần\n",
    "TRAIN_DIR = f\"{DATA_ROOT}/Train\"\n",
    "VAL_DIR   = f\"{DATA_ROOT}/Validate\"\n",
    "\n",
    "\n",
    "\n",
    "\n",
    "\n",
    "IMG_EXTS  = {\".jpg\", \".jpeg\", \".png\", \".bmp\", \".webp\"}\n",
    "\n",
    "# Kiểm tra tồn tại (tùy bộ dữ liệu của bạn có hoặc không có val)\n",
    "assert TRAIN_DIR.exists(), f\"Không thấy thư mục train: {TRAIN_DIR}\"\n",
    "if not VAL_DIR.exists():\n",
    "    print(\"⚠️ Không thấy thư mục val, sẽ chỉ quét train.\")\n"
   ]
  },
  {
   "cell_type": "code",
   "execution_count": 4,
   "id": "ea2e58ba",
   "metadata": {},
   "outputs": [
    {
     "ename": "AttributeError",
     "evalue": "'str' object has no attribute 'iterdir'",
     "output_type": "error",
     "traceback": [
      "\u001b[31m---------------------------------------------------------------------------\u001b[39m",
      "\u001b[31mAttributeError\u001b[39m                            Traceback (most recent call last)",
      "\u001b[36mCell\u001b[39m\u001b[36m \u001b[39m\u001b[32mIn[4]\u001b[39m\u001b[32m, line 11\u001b[39m\n\u001b[32m      8\u001b[39m                 rows.append({\u001b[33m\"\u001b[39m\u001b[33msplit\u001b[39m\u001b[33m\"\u001b[39m: split_name, \u001b[33m\"\u001b[39m\u001b[33mcls\u001b[39m\u001b[33m\"\u001b[39m: \u001b[38;5;28mcls\u001b[39m, \u001b[33m\"\u001b[39m\u001b[33mpath\u001b[39m\u001b[33m\"\u001b[39m: \u001b[38;5;28mstr\u001b[39m(p)})\n\u001b[32m      9\u001b[39m     \u001b[38;5;28;01mreturn\u001b[39;00m rows\n\u001b[32m---> \u001b[39m\u001b[32m11\u001b[39m rows = \u001b[43mscan_split\u001b[49m\u001b[43m(\u001b[49m\u001b[43mTRAIN_DIR\u001b[49m\u001b[43m,\u001b[49m\u001b[43m \u001b[49m\u001b[33;43m\"\u001b[39;49m\u001b[33;43mtrain\u001b[39;49m\u001b[33;43m\"\u001b[39;49m\u001b[43m)\u001b[49m + scan_split(VAL_DIR, \u001b[33m\"\u001b[39m\u001b[33mval\u001b[39m\u001b[33m\"\u001b[39m)\n\u001b[32m     12\u001b[39m df = pd.DataFrame(rows)\n\u001b[32m     13\u001b[39m \u001b[38;5;28mprint\u001b[39m(df.head(), \u001b[33m\"\u001b[39m\u001b[38;5;130;01m\\n\u001b[39;00m\u001b[33mTổng ảnh:\u001b[39m\u001b[33m\"\u001b[39m, \u001b[38;5;28mlen\u001b[39m(df), \u001b[33m\"\u001b[39m\u001b[33m— Lớp:\u001b[39m\u001b[33m\"\u001b[39m, df[\u001b[33m'\u001b[39m\u001b[33mcls\u001b[39m\u001b[33m'\u001b[39m].nunique())\n",
      "\u001b[36mCell\u001b[39m\u001b[36m \u001b[39m\u001b[32mIn[4]\u001b[39m\u001b[32m, line 4\u001b[39m, in \u001b[36mscan_split\u001b[39m\u001b[34m(split_dir, split_name)\u001b[39m\n\u001b[32m      2\u001b[39m \u001b[38;5;28;01mdef\u001b[39;00m\u001b[38;5;250m \u001b[39m\u001b[34mscan_split\u001b[39m(split_dir, split_name):\n\u001b[32m      3\u001b[39m     rows = []\n\u001b[32m----> \u001b[39m\u001b[32m4\u001b[39m     \u001b[38;5;28;01mfor\u001b[39;00m cls_dir \u001b[38;5;129;01min\u001b[39;00m \u001b[38;5;28msorted\u001b[39m([d \u001b[38;5;28;01mfor\u001b[39;00m d \u001b[38;5;129;01min\u001b[39;00m \u001b[43msplit_dir\u001b[49m\u001b[43m.\u001b[49m\u001b[43miterdir\u001b[49m() \u001b[38;5;28;01mif\u001b[39;00m d.is_dir()]):\n\u001b[32m      5\u001b[39m         \u001b[38;5;28mcls\u001b[39m = cls_dir.name\n\u001b[32m      6\u001b[39m         \u001b[38;5;28;01mfor\u001b[39;00m p \u001b[38;5;129;01min\u001b[39;00m cls_dir.rglob(\u001b[33m\"\u001b[39m\u001b[33m*\u001b[39m\u001b[33m\"\u001b[39m):\n",
      "\u001b[31mAttributeError\u001b[39m: 'str' object has no attribute 'iterdir'"
     ]
    }
   ],
   "source": [
    "# Cell 1: Scan dataset -> DataFrame\n",
    "def scan_split(split_dir, split_name):\n",
    "    rows = []\n",
    "    for cls_dir in sorted([d for d in split_dir.iterdir() if d.is_dir()]):\n",
    "        cls = cls_dir.name\n",
    "        for p in cls_dir.rglob(\"*\"):\n",
    "            if p.suffix.lower() in IMG_EXTS:\n",
    "                rows.append({\"split\": split_name, \"cls\": cls, \"path\": str(p)})\n",
    "    return rows\n",
    "\n",
    "rows = scan_split(TRAIN_DIR, \"train\") + scan_split(VAL_DIR, \"val\")\n",
    "df = pd.DataFrame(rows)\n",
    "print(df.head(), \"\\nTổng ảnh:\", len(df), \"— Lớp:\", df['cls'].nunique())\n",
    "\n",
    "# Đọc metadata ảnh cơ bản (kích thước, tỷ lệ, diện tích, độ sáng, độ mờ...)\n",
    "def image_meta(path):\n",
    "    try:\n",
    "        with Image.open(path) as im:\n",
    "            im = im.convert(\"RGB\")\n",
    "            w, h = im.size\n",
    "            # sáng & độ bão hòa cơ bản\n",
    "            stat = ImageStat.Stat(im)\n",
    "            mean_rgb = [v for v in stat.mean]          # 3 kênh\n",
    "            brightness = sum(mean_rgb)/3.0\n",
    "            # độ mờ (variance of laplacian)\n",
    "            arr = np.array(im)\n",
    "            gray = cv2.cvtColor(arr, cv2.COLOR_RGB2GRAY)\n",
    "            blur = cv2.Laplacian(gray, cv2.CV_64F).var()\n",
    "            # tỷ lệ\n",
    "            ar = w / h\n",
    "            return w, h, ar, w*h, brightness, blur\n",
    "    except Exception as e:\n",
    "        return None\n",
    "\n",
    "meta = df['path'].apply(image_meta)\n",
    "mask_ok = meta.notna()\n",
    "df = df[mask_ok].copy()\n",
    "df[[\"w\",\"h\",\"aspect\",\"area\",\"brightness\",\"blur_var\"]] = pd.DataFrame(meta[mask_ok].tolist(), index=df.index)\n",
    "df.reset_index(drop=True, inplace=True)\n",
    "df.head()\n"
   ]
  },
  {
   "cell_type": "code",
   "execution_count": null,
   "id": "ce650a42",
   "metadata": {},
   "outputs": [],
   "source": []
  },
  {
   "cell_type": "code",
   "execution_count": null,
   "id": "44858588",
   "metadata": {},
   "outputs": [],
   "source": []
  }
 ],
 "metadata": {
  "kernelspec": {
   "display_name": "Python 3",
   "language": "python",
   "name": "python3"
  },
  "language_info": {
   "codemirror_mode": {
    "name": "ipython",
    "version": 3
   },
   "file_extension": ".py",
   "mimetype": "text/x-python",
   "name": "python",
   "nbconvert_exporter": "python",
   "pygments_lexer": "ipython3",
   "version": "3.12.10"
  }
 },
 "nbformat": 4,
 "nbformat_minor": 5
}
