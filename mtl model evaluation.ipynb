{
 "cells": [
  {
   "cell_type": "code",
   "execution_count": null,
   "id": "bc14243c",
   "metadata": {},
   "outputs": [
    {
     "name": "stdout",
     "output_type": "stream",
     "text": [
      "Device: cuda\n"
     ]
    }
   ],
   "source": [
    "# ==== CELL 0: CONFIG & DEVICE ====\n",
    "import os, torch\n",
    "\n",
    "# Đường dẫn dữ liệu (đúng cấu trúc Train/Validate/Test như bạn dùng)\n",
    "ROOT = r\"C:/TRAIN/Deep Learning/vietnamese-foods/Images\"\n",
    "root_test = f\"{ROOT}/Test\"\n",
    "\n",
    "IMG_SIZE = 224\n",
    "BATCH_SIZE = 32\n",
    "\n",
    "device = torch.device(\"cuda\" if torch.cuda.is_available() else \"cpu\")\n",
    "print(\"Device:\", device)"
   ]
  },
  {
   "cell_type": "code",
   "execution_count": null,
   "metadata": {},
   "outputs": [],
   "source": [
    "# ==== CELL 1: TRANSFORMS GIỐNG LÚC TRAIN ====\n",
    "from torchvision import transforms\n",
    "\n",
    "test_transform = transforms.Compose([\n",
    "    transforms.Resize((IMG_SIZE, IMG_SIZE)),\n",
    "    transforms.ToTensor(),\n",
    "    # Nếu lúc train có Normalize(mean, std) thì PHẢI dùng y chang:\n",
    "    # transforms.Normalize(mean=[0.485, 0.456, 0.406],\n",
    "    #                      std=[0.229, 0.224, 0.225]),\n",
    "])"
   ]
  },
  {
   "cell_type": "code",
   "execution_count": 45,
   "id": "2211803e",
   "metadata": {},
   "outputs": [
    {
     "name": "stdout",
     "output_type": "stream",
     "text": [
      "Số lớp: 33\n",
      "Ví dụ lớp: ['Banh beo', 'Banh bot loc', 'Banh can', 'Banh canh', 'Banh chung', 'Banh cuon', 'Banh duc', 'Banh gio', 'Banh khot', 'Banh mi', 'Banh pia', 'Banh tet', 'Banh trang nuong', 'Banh xeo', 'Bun bo Hue', 'Bun dau mam tom', 'Bun mam', 'Bun rieu', 'Bun thit nuong', 'Ca kho to', 'Canh chua', 'Cao lau', 'Chao long', 'Com tam', 'Goi cuon', 'Hu tieu', 'Mi quang', 'Nem chua', 'Pho', 'Xoi xeo', 'banh_da_lon', 'banh_tieu', 'banh_trung_thu']\n"
     ]
    }
   ],
   "source": [
    "# ==== CELL 2: HÀM BUILD + GỌI HÀM => TẠO test_loader, class_names ====\n",
    "from torchvision.datasets import ImageFolder\n",
    "from torch.utils.data import DataLoader\n",
    "\n",
    "def build_test_loader(root_test_dir, transform, batch_size):\n",
    "    dataset = ImageFolder(root=root_test_dir, transform=transform)\n",
    "    loader = DataLoader(dataset, batch_size=batch_size, shuffle=False, num_workers=2, pin_memory=True)\n",
    "    class_names = list(dataset.classes)            # thứ tự theo thư mục của ImageFolder\n",
    "    class_to_idx = dict(dataset.class_to_idx)      # mapping {class_name: idx} của dataset\n",
    "    return loader, class_names, class_to_idx\n",
    "\n",
    "# >>> GỌI HÀM (rất hay bị quên)\n",
    "test_loader, class_names, ds_class_to_idx = build_test_loader(root_test, test_transform, BATCH_SIZE)\n",
    "\n",
    "print(\"Số lớp:\", len(class_names))\n",
    "print(\"Ví dụ lớp:\", class_names[:33])"
   ]
  },
  {
   "cell_type": "code",
   "execution_count": null,
   "id": "3f1dfda8",
   "metadata": {},
   "outputs": [
    {
     "name": "stdout",
     "output_type": "stream",
     "text": [
      "OK: Core evaluation đã sẵn sàng.\n"
     ]
    }
   ],
   "source": [
    "# ==== CELL 3: EVALUATION CORE – fixed label order & stable CM ====\n",
    "import numpy as np, torch\n",
    "from sklearn.metrics import classification_report, confusion_matrix, accuracy_score, precision_recall_fscore_support\n",
    "\n",
    "# 1) Chốt thứ tự nhãn (đã có class_names từ Cell 2)\n",
    "assert \"class_names\" in globals(), \"Bạn cần nạp class_names (thứ tự chuẩn) trước Cell 3!\"\n",
    "NUM_CLASSES = len(class_names)\n",
    "name2idx = {n: i for i, n in enumerate(class_names)}\n",
    "\n",
    "# 2) Tạo remap nếu dataset.class_to_idx không trùng thứ tự class_names\n",
    "remap = None\n",
    "if hasattr(test_loader.dataset, \"class_to_idx\"):\n",
    "    ds_idx2name = {v: k for k, v in test_loader.dataset.class_to_idx.items()}\n",
    "    # hoặc dùng ds_class_to_idx từ Cell 2:\n",
    "    # ds_idx2name = {v: k for k, v in ds_class_to_idx.items()}\n",
    "    remap = {src_idx: name2idx[ds_idx2name[src_idx]] for src_idx in range(len(ds_idx2name))}\n",
    "\n",
    "def collect_logits(model, loader, device, remap=None):\n",
    "    y_true, y_pred, y_prob = [], [], []\n",
    "    model.eval()\n",
    "    with torch.no_grad():\n",
    "        for x, y in loader:\n",
    "            if remap is not None:\n",
    "                y = torch.as_tensor([remap[int(t)] for t in y], dtype=torch.long)\n",
    "            x = x.to(device)\n",
    "            logits = model(x)\n",
    "            prob = torch.softmax(logits, dim=1).cpu().numpy()\n",
    "            pred = prob.argmax(1)\n",
    "\n",
    "            y_prob.append(prob)\n",
    "            y_pred.append(pred)\n",
    "            y_true.append(y.numpy())\n",
    "    return np.concatenate(y_true), np.concatenate(y_pred), np.concatenate(y_prob)\n",
    "\n",
    "# Sau Cell 3, bạn có thể dùng tiếp các cell đánh giá, vẽ CM, v.v.\n",
    "print(\"OK: Core evaluation đã sẵn sàng.\")"
   ]
  },
  {
   "cell_type": "code",
   "execution_count": 47,
   "id": "9d30448f",
   "metadata": {},
   "outputs": [
    {
     "name": "stdout",
     "output_type": "stream",
     "text": [
      "✅ test_loader & class_names sẵn sàng.\n"
     ]
    }
   ],
   "source": [
    "# QUICK CHECK trước khi vẽ\n",
    "try:\n",
    "    _ = iter(test_loader)\n",
    "    assert len(class_names) > 0\n",
    "    print(\"✅ test_loader & class_names sẵn sàng.\")\n",
    "except Exception as e:\n",
    "    print(\"❌ Lỗi:\", e)\n"
   ]
  },
  {
   "cell_type": "code",
   "execution_count": null,
   "id": "456a85f7",
   "metadata": {},
   "outputs": [],
   "source": []
  },
  {
   "cell_type": "code",
   "execution_count": null,
   "id": "1ac57e2b",
   "metadata": {},
   "outputs": [],
   "source": []
  },
  {
   "cell_type": "code",
   "execution_count": null,
   "id": "b8c8b197",
   "metadata": {},
   "outputs": [],
   "source": []
  },
  {
   "cell_type": "code",
   "execution_count": null,
   "id": "fba726ad",
   "metadata": {},
   "outputs": [],
   "source": []
  },
  {
   "cell_type": "code",
   "execution_count": null,
   "id": "8df11f62",
   "metadata": {},
   "outputs": [],
   "source": []
  }
 ],
 "metadata": {
  "kernelspec": {
   "display_name": "Python 3",
   "language": "python",
   "name": "python3"
  },
  "language_info": {
   "codemirror_mode": {
    "name": "ipython",
    "version": 3
   },
   "file_extension": ".py",
   "mimetype": "text/x-python",
   "name": "python",
   "nbconvert_exporter": "python",
   "pygments_lexer": "ipython3",
   "version": "3.12.10"
  }
 },
 "nbformat": 4,
 "nbformat_minor": 5
}
