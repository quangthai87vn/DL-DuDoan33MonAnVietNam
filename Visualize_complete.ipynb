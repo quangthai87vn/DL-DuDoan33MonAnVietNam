{
 "cells": [
  {
   "cell_type": "code",
   "execution_count": 1,
   "id": "f53620e0",
   "metadata": {},
   "outputs": [
    {
     "name": "stdout",
     "output_type": "stream",
     "text": [
      "Defaulting to user installation because normal site-packages is not writeable\n",
      "Collecting torchinfo\n",
      "  Downloading torchinfo-1.8.0-py3-none-any.whl.metadata (21 kB)\n",
      "Downloading torchinfo-1.8.0-py3-none-any.whl (23 kB)\n",
      "Installing collected packages: torchinfo\n",
      "Successfully installed torchinfo-1.8.0\n",
      "Note: you may need to restart the kernel to use updated packages.\n"
     ]
    }
   ],
   "source": [
    "pip install torchinfo\n"
   ]
  },
  {
   "cell_type": "code",
   "execution_count": 2,
   "id": "106c83c3",
   "metadata": {},
   "outputs": [
    {
     "ename": "TypeError",
     "evalue": "simpleCNN.__init__() got an unexpected keyword argument 'num_classes'",
     "output_type": "error",
     "traceback": [
      "\u001b[31m---------------------------------------------------------------------------\u001b[39m",
      "\u001b[31mTypeError\u001b[39m                                 Traceback (most recent call last)",
      "\u001b[36mCell\u001b[39m\u001b[36m \u001b[39m\u001b[32mIn[2]\u001b[39m\u001b[32m, line 8\u001b[39m\n\u001b[32m      5\u001b[39m \u001b[38;5;28;01mfrom\u001b[39;00m\u001b[38;5;250m \u001b[39m\u001b[34;01mmodel\u001b[39;00m\u001b[34;01m.\u001b[39;00m\u001b[34;01mcnn\u001b[39;00m\u001b[38;5;250m \u001b[39m\u001b[38;5;28;01mimport\u001b[39;00m simpleCNN\n\u001b[32m      7\u001b[39m \u001b[38;5;66;03m# Khởi tạo model (33 lớp như trong code của bạn)\u001b[39;00m\n\u001b[32m----> \u001b[39m\u001b[32m8\u001b[39m model = \u001b[43msimpleCNN\u001b[49m\u001b[43m(\u001b[49m\u001b[43mnum_classes\u001b[49m\u001b[43m=\u001b[49m\u001b[32;43m33\u001b[39;49m\u001b[43m)\u001b[49m\n\u001b[32m     10\u001b[39m \u001b[38;5;66;03m# In bảng tóm tắt với input 3x224x224\u001b[39;00m\n\u001b[32m     11\u001b[39m summary(\n\u001b[32m     12\u001b[39m     model,\n\u001b[32m     13\u001b[39m     input_size=(\u001b[32m1\u001b[39m, \u001b[32m3\u001b[39m, \u001b[32m224\u001b[39m, \u001b[32m224\u001b[39m),\n\u001b[32m   (...)\u001b[39m\u001b[32m     16\u001b[39m     depth=\u001b[32m4\u001b[39m\n\u001b[32m     17\u001b[39m )\n",
      "\u001b[31mTypeError\u001b[39m: simpleCNN.__init__() got an unexpected keyword argument 'num_classes'"
     ]
    }
   ],
   "source": [
    "import torch\n",
    "from torchinfo import summary\n",
    "\n",
    "# nếu file của bạn là model/cnn.py\n",
    "from model.cnn import simpleCNN\n",
    "\n",
    "# Khởi tạo model (33 lớp như trong code của bạn)\n",
    "model = simpleCNN(num_classes=33)\n",
    "\n",
    "# In bảng tóm tắt với input 3x224x224\n",
    "summary(\n",
    "    model,\n",
    "    input_size=(1, 3, 224, 224),\n",
    "    col_names=(\"input_size\", \"output_size\", \"num_params\", \"kernel_size\"),\n",
    "    col_width=20,\n",
    "    depth=4\n",
    ")\n"
   ]
  }
 ],
 "metadata": {
  "kernelspec": {
   "display_name": "Python 3",
   "language": "python",
   "name": "python3"
  },
  "language_info": {
   "codemirror_mode": {
    "name": "ipython",
    "version": 3
   },
   "file_extension": ".py",
   "mimetype": "text/x-python",
   "name": "python",
   "nbconvert_exporter": "python",
   "pygments_lexer": "ipython3",
   "version": "3.12.10"
  }
 },
 "nbformat": 4,
 "nbformat_minor": 5
}
