{
 "cells": [
  {
   "cell_type": "code",
   "execution_count": 4,
   "id": "f53620e0",
   "metadata": {},
   "outputs": [
    {
     "name": "stdout",
     "output_type": "stream",
     "text": [
      "Defaulting to user installation because normal site-packages is not writeable\n",
      "Requirement already satisfied: torchinfo in c:\\users\\admin\\appdata\\local\\packages\\pythonsoftwarefoundation.python.3.12_qbz5n2kfra8p0\\localcache\\local-packages\\python312\\site-packages (1.8.0)\n",
      "Requirement already satisfied: torchviz in c:\\users\\admin\\appdata\\local\\packages\\pythonsoftwarefoundation.python.3.12_qbz5n2kfra8p0\\localcache\\local-packages\\python312\\site-packages (0.0.3)\n",
      "Requirement already satisfied: graphviz in c:\\users\\admin\\appdata\\local\\packages\\pythonsoftwarefoundation.python.3.12_qbz5n2kfra8p0\\localcache\\local-packages\\python312\\site-packages (0.21)\n",
      "Collecting seaborn\n",
      "  Downloading seaborn-0.13.2-py3-none-any.whl.metadata (5.4 kB)\n",
      "Requirement already satisfied: torch in c:\\users\\admin\\appdata\\local\\packages\\pythonsoftwarefoundation.python.3.12_qbz5n2kfra8p0\\localcache\\local-packages\\python312\\site-packages (from torchviz) (2.5.1+cu121)\n",
      "Requirement already satisfied: numpy!=1.24.0,>=1.20 in c:\\users\\admin\\appdata\\local\\packages\\pythonsoftwarefoundation.python.3.12_qbz5n2kfra8p0\\localcache\\local-packages\\python312\\site-packages (from seaborn) (2.2.4)\n",
      "Requirement already satisfied: pandas>=1.2 in c:\\users\\admin\\appdata\\local\\packages\\pythonsoftwarefoundation.python.3.12_qbz5n2kfra8p0\\localcache\\local-packages\\python312\\site-packages (from seaborn) (2.2.3)\n",
      "Requirement already satisfied: matplotlib!=3.6.1,>=3.4 in c:\\users\\admin\\appdata\\local\\packages\\pythonsoftwarefoundation.python.3.12_qbz5n2kfra8p0\\localcache\\local-packages\\python312\\site-packages (from seaborn) (3.10.1)\n",
      "Requirement already satisfied: contourpy>=1.0.1 in c:\\users\\admin\\appdata\\local\\packages\\pythonsoftwarefoundation.python.3.12_qbz5n2kfra8p0\\localcache\\local-packages\\python312\\site-packages (from matplotlib!=3.6.1,>=3.4->seaborn) (1.3.1)\n",
      "Requirement already satisfied: cycler>=0.10 in c:\\users\\admin\\appdata\\local\\packages\\pythonsoftwarefoundation.python.3.12_qbz5n2kfra8p0\\localcache\\local-packages\\python312\\site-packages (from matplotlib!=3.6.1,>=3.4->seaborn) (0.12.1)\n",
      "Requirement already satisfied: fonttools>=4.22.0 in c:\\users\\admin\\appdata\\local\\packages\\pythonsoftwarefoundation.python.3.12_qbz5n2kfra8p0\\localcache\\local-packages\\python312\\site-packages (from matplotlib!=3.6.1,>=3.4->seaborn) (4.56.0)\n",
      "Requirement already satisfied: kiwisolver>=1.3.1 in c:\\users\\admin\\appdata\\local\\packages\\pythonsoftwarefoundation.python.3.12_qbz5n2kfra8p0\\localcache\\local-packages\\python312\\site-packages (from matplotlib!=3.6.1,>=3.4->seaborn) (1.4.8)\n",
      "Requirement already satisfied: packaging>=20.0 in c:\\users\\admin\\appdata\\local\\packages\\pythonsoftwarefoundation.python.3.12_qbz5n2kfra8p0\\localcache\\local-packages\\python312\\site-packages (from matplotlib!=3.6.1,>=3.4->seaborn) (24.2)\n",
      "Requirement already satisfied: pillow>=8 in c:\\users\\admin\\appdata\\local\\packages\\pythonsoftwarefoundation.python.3.12_qbz5n2kfra8p0\\localcache\\local-packages\\python312\\site-packages (from matplotlib!=3.6.1,>=3.4->seaborn) (11.2.0)\n",
      "Requirement already satisfied: pyparsing>=2.3.1 in c:\\users\\admin\\appdata\\local\\packages\\pythonsoftwarefoundation.python.3.12_qbz5n2kfra8p0\\localcache\\local-packages\\python312\\site-packages (from matplotlib!=3.6.1,>=3.4->seaborn) (3.2.3)\n",
      "Requirement already satisfied: python-dateutil>=2.7 in c:\\users\\admin\\appdata\\local\\packages\\pythonsoftwarefoundation.python.3.12_qbz5n2kfra8p0\\localcache\\local-packages\\python312\\site-packages (from matplotlib!=3.6.1,>=3.4->seaborn) (2.9.0.post0)\n",
      "Requirement already satisfied: pytz>=2020.1 in c:\\users\\admin\\appdata\\local\\packages\\pythonsoftwarefoundation.python.3.12_qbz5n2kfra8p0\\localcache\\local-packages\\python312\\site-packages (from pandas>=1.2->seaborn) (2025.2)\n",
      "Requirement already satisfied: tzdata>=2022.7 in c:\\users\\admin\\appdata\\local\\packages\\pythonsoftwarefoundation.python.3.12_qbz5n2kfra8p0\\localcache\\local-packages\\python312\\site-packages (from pandas>=1.2->seaborn) (2025.2)\n",
      "Requirement already satisfied: six>=1.5 in c:\\users\\admin\\appdata\\local\\packages\\pythonsoftwarefoundation.python.3.12_qbz5n2kfra8p0\\localcache\\local-packages\\python312\\site-packages (from python-dateutil>=2.7->matplotlib!=3.6.1,>=3.4->seaborn) (1.17.0)\n",
      "Requirement already satisfied: filelock in c:\\users\\admin\\appdata\\local\\packages\\pythonsoftwarefoundation.python.3.12_qbz5n2kfra8p0\\localcache\\local-packages\\python312\\site-packages (from torch->torchviz) (3.20.0)\n",
      "Requirement already satisfied: typing-extensions>=4.8.0 in c:\\users\\admin\\appdata\\local\\packages\\pythonsoftwarefoundation.python.3.12_qbz5n2kfra8p0\\localcache\\local-packages\\python312\\site-packages (from torch->torchviz) (4.15.0)\n",
      "Requirement already satisfied: networkx in c:\\users\\admin\\appdata\\local\\packages\\pythonsoftwarefoundation.python.3.12_qbz5n2kfra8p0\\localcache\\local-packages\\python312\\site-packages (from torch->torchviz) (3.5)\n",
      "Requirement already satisfied: jinja2 in c:\\users\\admin\\appdata\\local\\packages\\pythonsoftwarefoundation.python.3.12_qbz5n2kfra8p0\\localcache\\local-packages\\python312\\site-packages (from torch->torchviz) (3.1.6)\n",
      "Requirement already satisfied: fsspec in c:\\users\\admin\\appdata\\local\\packages\\pythonsoftwarefoundation.python.3.12_qbz5n2kfra8p0\\localcache\\local-packages\\python312\\site-packages (from torch->torchviz) (2025.9.0)\n",
      "Requirement already satisfied: setuptools in c:\\users\\admin\\appdata\\local\\packages\\pythonsoftwarefoundation.python.3.12_qbz5n2kfra8p0\\localcache\\local-packages\\python312\\site-packages (from torch->torchviz) (76.0.0)\n",
      "Requirement already satisfied: sympy==1.13.1 in c:\\users\\admin\\appdata\\local\\packages\\pythonsoftwarefoundation.python.3.12_qbz5n2kfra8p0\\localcache\\local-packages\\python312\\site-packages (from torch->torchviz) (1.13.1)\n",
      "Requirement already satisfied: mpmath<1.4,>=1.1.0 in c:\\users\\admin\\appdata\\local\\packages\\pythonsoftwarefoundation.python.3.12_qbz5n2kfra8p0\\localcache\\local-packages\\python312\\site-packages (from sympy==1.13.1->torch->torchviz) (1.3.0)\n",
      "Requirement already satisfied: MarkupSafe>=2.0 in c:\\users\\admin\\appdata\\local\\packages\\pythonsoftwarefoundation.python.3.12_qbz5n2kfra8p0\\localcache\\local-packages\\python312\\site-packages (from jinja2->torch->torchviz) (3.0.2)\n",
      "Downloading seaborn-0.13.2-py3-none-any.whl (294 kB)\n",
      "Installing collected packages: seaborn\n",
      "Successfully installed seaborn-0.13.2\n",
      "Note: you may need to restart the kernel to use updated packages.\n"
     ]
    }
   ],
   "source": [
    "pip install torchinfo torchviz graphviz seaborn"
   ]
  },
  {
   "cell_type": "code",
   "execution_count": 1,
   "id": "106c83c3",
   "metadata": {},
   "outputs": [
    {
     "data": {
      "text/plain": [
       "========================================================================================================================\n",
       "Layer (type:depth-idx)                   Input Shape          Output Shape         Param #              Kernel Shape\n",
       "========================================================================================================================\n",
       "simpleCNN                                [1, 3, 224, 224]     [1, 33]              --                   --\n",
       "├─Conv2d: 1-1                            [1, 3, 224, 224]     [1, 64, 224, 224]    1,792                [3, 3]\n",
       "├─ReLU: 1-2                              [1, 64, 224, 224]    [1, 64, 224, 224]    --                   --\n",
       "├─MaxPool2d: 1-3                         [1, 64, 224, 224]    [1, 64, 112, 112]    --                   2\n",
       "├─ConvReluBn: 1-4                        [1, 64, 112, 112]    [1, 128, 112, 112]   --                   --\n",
       "│    └─Conv2d: 2-1                       [1, 64, 112, 112]    [1, 128, 112, 112]   73,728               [3, 3]\n",
       "│    └─BatchNorm2d: 2-2                  [1, 128, 112, 112]   [1, 128, 112, 112]   256                  --\n",
       "│    └─ReLU: 2-3                         [1, 128, 112, 112]   [1, 128, 112, 112]   --                   --\n",
       "├─MaxPool2d: 1-5                         [1, 128, 112, 112]   [1, 128, 56, 56]     --                   2\n",
       "├─ConvReluBn: 1-6                        [1, 128, 56, 56]     [1, 256, 56, 56]     --                   --\n",
       "│    └─Conv2d: 2-4                       [1, 128, 56, 56]     [1, 256, 56, 56]     294,912              [3, 3]\n",
       "│    └─BatchNorm2d: 2-5                  [1, 256, 56, 56]     [1, 256, 56, 56]     512                  --\n",
       "│    └─ReLU: 2-6                         [1, 256, 56, 56]     [1, 256, 56, 56]     --                   --\n",
       "├─MaxPool2d: 1-7                         [1, 256, 56, 56]     [1, 256, 28, 28]     --                   2\n",
       "├─ConvReluBn: 1-8                        [1, 256, 28, 28]     [1, 512, 28, 28]     --                   --\n",
       "│    └─Conv2d: 2-7                       [1, 256, 28, 28]     [1, 512, 28, 28]     1,179,648            [3, 3]\n",
       "│    └─BatchNorm2d: 2-8                  [1, 512, 28, 28]     [1, 512, 28, 28]     1,024                --\n",
       "│    └─ReLU: 2-9                         [1, 512, 28, 28]     [1, 512, 28, 28]     --                   --\n",
       "├─MaxPool2d: 1-9                         [1, 512, 28, 28]     [1, 512, 14, 14]     --                   2\n",
       "├─ConvReluBn: 1-10                       [1, 512, 14, 14]     [1, 512, 14, 14]     --                   --\n",
       "│    └─Conv2d: 2-10                      [1, 512, 14, 14]     [1, 512, 14, 14]     2,359,296            [3, 3]\n",
       "│    └─BatchNorm2d: 2-11                 [1, 512, 14, 14]     [1, 512, 14, 14]     1,024                --\n",
       "│    └─ReLU: 2-12                        [1, 512, 14, 14]     [1, 512, 14, 14]     --                   --\n",
       "├─MaxPool2d: 1-11                        [1, 512, 14, 14]     [1, 512, 7, 7]       --                   2\n",
       "├─Sequential: 1-12                       [1, 25088]           [1, 33]              --                   --\n",
       "│    └─Linear: 2-13                      [1, 25088]           [1, 128]             3,211,392            --\n",
       "│    └─ReLU: 2-14                        [1, 128]             [1, 128]             --                   --\n",
       "│    └─Linear: 2-15                      [1, 128]             [1, 33]              4,257                --\n",
       "========================================================================================================================\n",
       "Total params: 7,127,841\n",
       "Trainable params: 7,127,841\n",
       "Non-trainable params: 0\n",
       "Total mult-adds (Units.GIGABYTES): 3.33\n",
       "========================================================================================================================\n",
       "Input size (MB): 0.60\n",
       "Forward/backward pass size (MB): 72.25\n",
       "Params size (MB): 28.51\n",
       "Estimated Total Size (MB): 101.37\n",
       "========================================================================================================================"
      ]
     },
     "execution_count": 1,
     "metadata": {},
     "output_type": "execute_result"
    }
   ],
   "source": [
    "import torch\n",
    "from torchinfo import summary\n",
    "\n",
    "# nếu file của bạn là model/cnn.py\n",
    "from model.cnn import simpleCNN\n",
    "\n",
    "# Khởi tạo model (33 lớp như trong code của bạn)\n",
    "model = simpleCNN()\n",
    "\n",
    "# In bảng tóm tắt với input 3x224x224\n",
    "summary(\n",
    "    model,\n",
    "    input_size=(1, 3, 224, 224),\n",
    "    col_names=(\"input_size\", \"output_size\", \"num_params\", \"kernel_size\"),\n",
    "    col_width=20,\n",
    "    depth=4\n",
    ")\n"
   ]
  },
  {
   "cell_type": "code",
   "execution_count": 3,
   "id": "18ec2552",
   "metadata": {},
   "outputs": [
    {
     "name": "stdout",
     "output_type": "stream",
     "text": [
      "Device: cuda\n"
     ]
    }
   ],
   "source": [
    "# --- core ---\n",
    "import os, sys, numpy as np\n",
    "import torch, torch.nn.functional as F\n",
    "from torch.utils.data import DataLoader\n",
    "from torchvision.datasets import ImageFolder\n",
    "from torchvision import transforms\n",
    "from sklearn.metrics import classification_report, confusion_matrix\n",
    "import matplotlib.pyplot as plt\n",
    "import seaborn as sns\n",
    "\n",
    "device = 'cuda' if torch.cuda.is_available() else 'cpu'\n",
    "pin = torch.cuda.is_available()\n",
    "print(\"Device:\", device)"
   ]
  },
  {
   "cell_type": "code",
   "execution_count": null,
   "id": "11abb8ea",
   "metadata": {},
   "outputs": [],
   "source": []
  },
  {
   "cell_type": "code",
   "execution_count": null,
   "id": "844a9a0b",
   "metadata": {},
   "outputs": [],
   "source": []
  },
  {
   "cell_type": "code",
   "execution_count": null,
   "id": "451016d3",
   "metadata": {},
   "outputs": [],
   "source": []
  }
 ],
 "metadata": {
  "kernelspec": {
   "display_name": "Python 3",
   "language": "python",
   "name": "python3"
  },
  "language_info": {
   "codemirror_mode": {
    "name": "ipython",
    "version": 3
   },
   "file_extension": ".py",
   "mimetype": "text/x-python",
   "name": "python",
   "nbconvert_exporter": "python",
   "pygments_lexer": "ipython3",
   "version": "3.12.10"
  }
 },
 "nbformat": 4,
 "nbformat_minor": 5
}
